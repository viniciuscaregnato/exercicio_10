{
 "cells": [
  {
   "cell_type": "code",
   "execution_count": 4,
   "id": "8ed3939b-cf36-4377-ae32-f5614ec8dcf1",
   "metadata": {},
   "outputs": [
    {
     "data": {
      "text/plain": [
       "'exercicio 3\\nautor: vinicius\\ninstrução: solicite o valor de um capital, o prazo de investimento, a taxa de juros, \\ncalcule e imprima na tela o valor capitalizado.\\nversão: 0.0.1'"
      ]
     },
     "execution_count": 4,
     "metadata": {},
     "output_type": "execute_result"
    }
   ],
   "source": [
    "\"\"\"exercicio 3\n",
    "autor: vinicius\n",
    "instrução: solicite o valor de um capital, o prazo de investimento, a taxa de juros, \n",
    "calcule e imprima na tela o valor capitalizado.\n",
    "versão: 0.0.1\"\"\""
   ]
  },
  {
   "cell_type": "code",
   "execution_count": 8,
   "id": "5219d5a8-f754-4dd3-b6a8-085a26c62a88",
   "metadata": {},
   "outputs": [],
   "source": [
    "# Alocação de memoria\n",
    "\n",
    "capital_investido = \"\"\n",
    "prazo_investimento = \"\"\n",
    "taxa_juros = \"\"\n"
   ]
  },
  {
   "cell_type": "code",
   "execution_count": 45,
   "id": "82292a6b-1bed-47e9-a3d3-61a03ebd15b9",
   "metadata": {},
   "outputs": [
    {
     "name": "stdin",
     "output_type": "stream",
     "text": [
      "capital investido:  10\n",
      "prazo de investimento, meses:  2\n",
      "taxa de juros mensal (%):  100\n"
     ]
    }
   ],
   "source": [
    "## Entrada de dados\n",
    "\n",
    "capital_investido = float(input(\"capital investido: \"))\n",
    "prazo_investimento = int(input(\"prazo de investimento, meses: \"))\n",
    "taxa_juros = float(input(\"taxa de juros mensal (%): \"))\n"
   ]
  },
  {
   "cell_type": "code",
   "execution_count": 49,
   "id": "b5a90539-1a7b-4f4c-8d89-fc320e079722",
   "metadata": {},
   "outputs": [],
   "source": [
    "# Processamento de dados\n",
    "\n",
    "valor_capitalizado = capital_investido * (1 + (taxa_juros/100)) ** prazo_investimento"
   ]
  },
  {
   "cell_type": "code",
   "execution_count": 51,
   "id": "8f7b6eac-cf4a-4c42-bd75-f240140ca84d",
   "metadata": {},
   "outputs": [
    {
     "name": "stdout",
     "output_type": "stream",
     "text": [
      "40.0\n"
     ]
    }
   ],
   "source": [
    "#Saída de dados\n",
    "print(valor_capitalizado)"
   ]
  }
 ],
 "metadata": {
  "kernelspec": {
   "display_name": "Python [conda env:base] *",
   "language": "python",
   "name": "conda-base-py"
  },
  "language_info": {
   "codemirror_mode": {
    "name": "ipython",
    "version": 3
   },
   "file_extension": ".py",
   "mimetype": "text/x-python",
   "name": "python",
   "nbconvert_exporter": "python",
   "pygments_lexer": "ipython3",
   "version": "3.12.7"
  }
 },
 "nbformat": 4,
 "nbformat_minor": 5
}
